{
 "cells": [
  {
   "cell_type": "code",
   "execution_count": 6,
   "metadata": {},
   "outputs": [],
   "source": [
    "import pandas as pd\n",
    "import numpy as np\n",
    "import torch\n",
    "import transformers\n",
    "from transformers import AutoTokenizer\n",
    "from transformers import DistilBertTokenizer, DistilBertModel\n",
    "from sentence_transformers import SentenceTransformer\n",
    "import faiss\n",
    "import sentence_transformers"
   ]
  },
  {
   "cell_type": "code",
   "execution_count": 12,
   "metadata": {},
   "outputs": [],
   "source": [
    "sentences = pd.read_json(\"https://lp-prod-resources.s3.amazonaws.com/493/57248/2021-05-04-13-31-46/sentences.json\").rename(columns = {0:\"sentence_text\"}) \n",
    "questions = pd.read_json(\"https://lp-prod-resources.s3.amazonaws.com/493/57248/2021-08-16-19-04-45/questions.json\").rename(columns = {0:\"question_text\"}) "
   ]
  },
  {
   "cell_type": "code",
   "execution_count": 13,
   "metadata": {},
   "outputs": [
    {
     "data": {
      "text/plain": [
       "(                                        sentence_text\n",
       " 0   A pandemic is an epidemic of an infectious dis...\n",
       " 1   The most fatal pandemic in recorded history wa...\n",
       " 2   Current pandemics include COVID-19 (SARS-CoV-2...\n",
       " 3   As of 2018, approximately 37.9 million people ...\n",
       " 4   Cholera is an infection of the small intestine...\n",
       " 5   Classic cholera symptom is large amounts of wa...\n",
       " 6   The COVID-19 pandemic, also known as the coron...\n",
       " 7   Common symptoms of COVID-19 include fever, cou...\n",
       " 8   The Plague of Cyprian was a pandemic that affl...\n",
       " 9   The Spanish flu, also known as the 1918 flu pa...\n",
       " 10  The death toll of Spanish Flu is estimated to ...,\n",
       "                                        question_text\n",
       " 0      How many people have died during Black Death?\n",
       " 1      Which diseases can be transmitted by animals?\n",
       " 2  Connection between climate change and a likeli...\n",
       " 3               What is an example of a latent virus\n",
       " 4                          Viruses in nanotechnology\n",
       " 5                       Giant viruses classification\n",
       " 6  What are the notable pandemic prevention organ...\n",
       " 7    How many leprosy outbreaks are known to happen?\n",
       " 8  What are the geographic areas with the highest...\n",
       " 9     How to prevent the spread of viral infections?)"
      ]
     },
     "execution_count": 13,
     "metadata": {},
     "output_type": "execute_result"
    }
   ],
   "source": [
    "sentences, questions"
   ]
  },
  {
   "cell_type": "code",
   "execution_count": 7,
   "metadata": {},
   "outputs": [
    {
     "name": "stderr",
     "output_type": "stream",
     "text": [
      "Downloading: 100%|██████████| 345/345 [00:00<00:00, 172kB/s]\n",
      "Downloading: 100%|██████████| 190/190 [00:00<00:00, 30.0kB/s]\n",
      "Downloading: 100%|██████████| 4.01k/4.01k [00:00<00:00, 652kB/s]\n",
      "Downloading: 100%|██████████| 555/555 [00:00<00:00, 208kB/s]\n",
      "Downloading: 100%|██████████| 122/122 [00:00<00:00, 14.0kB/s]\n",
      "Downloading: 100%|██████████| 265M/265M [00:39<00:00, 6.78MB/s] \n",
      "Downloading: 100%|██████████| 53.0/53.0 [00:00<00:00, 10.3kB/s]\n",
      "Downloading: 100%|██████████| 112/112 [00:00<00:00, 20.4kB/s]\n",
      "Downloading: 100%|██████████| 466k/466k [00:00<00:00, 1.73MB/s]\n",
      "Downloading: 100%|██████████| 505/505 [00:00<00:00, 505kB/s]\n",
      "Downloading: 100%|██████████| 232k/232k [00:00<00:00, 1.06MB/s]\n",
      "Downloading: 100%|██████████| 229/229 [00:00<00:00, 63.6kB/s]\n"
     ]
    }
   ],
   "source": [
    "model = SentenceTransformer('distilbert-base-nli-stsb-mean-tokens')"
   ]
  },
  {
   "cell_type": "code",
   "execution_count": 11,
   "metadata": {},
   "outputs": [
    {
     "data": {
      "text/plain": [
       "(768,)"
      ]
     },
     "execution_count": 11,
     "metadata": {},
     "output_type": "execute_result"
    }
   ],
   "source": [
    "model.encode(\"Test String\").shape"
   ]
  },
  {
   "cell_type": "code",
   "execution_count": 14,
   "metadata": {},
   "outputs": [],
   "source": [
    "vectors = [\n",
    "    model.encode(document)\n",
    "    for document in sentences.sentence_text\n",
    "]"
   ]
  },
  {
   "cell_type": "code",
   "execution_count": 17,
   "metadata": {},
   "outputs": [
    {
     "data": {
      "text/plain": [
       "[(768,),\n",
       " (768,),\n",
       " (768,),\n",
       " (768,),\n",
       " (768,),\n",
       " (768,),\n",
       " (768,),\n",
       " (768,),\n",
       " (768,),\n",
       " (768,),\n",
       " (768,)]"
      ]
     },
     "execution_count": 17,
     "metadata": {},
     "output_type": "execute_result"
    }
   ],
   "source": [
    "[v.shape for v in vectors]"
   ]
  },
  {
   "cell_type": "code",
   "execution_count": 38,
   "metadata": {},
   "outputs": [],
   "source": [
    "def encode(document: str):\n",
    "  vector = model.encode(document)\n",
    "  return vector"
   ]
  },
  {
   "cell_type": "code",
   "execution_count": 39,
   "metadata": {},
   "outputs": [],
   "source": [
    "index = faiss.IndexIDMap(faiss.IndexFlatIP(768))"
   ]
  },
  {
   "cell_type": "code",
   "execution_count": 54,
   "metadata": {},
   "outputs": [],
   "source": [
    "index.add_with_ids(\n",
    "    np.array([t for t in vectors]),\n",
    "    # the IDs will be 0 to len(documents)\n",
    "    np.array(range(0, len(sentences.sentence_text))).astype(np.int64)\n",
    ")"
   ]
  },
  {
   "cell_type": "code",
   "execution_count": 63,
   "metadata": {},
   "outputs": [],
   "source": [
    "def search(query: str, k=1):\n",
    "  encoded_query = np.expand_dims(encode(query), 0)\n",
    "  top_k = index.search(encoded_query, k)\n",
    "  scores = top_k[0][0]\n",
    "  results = [sentences.sentence_text[_id] for _id in top_k[1][0]]\n",
    "  return list(zip(results, scores))"
   ]
  },
  {
   "cell_type": "code",
   "execution_count": 65,
   "metadata": {},
   "outputs": [
    {
     "name": "stdout",
     "output_type": "stream",
     "text": [
      "Question: Connection between climate change and a likelihood of a pandemic\n",
      "Answer: [('A pandemic is an epidemic of an infectious disease that has spread across a large region, for instance multiple continents or worldwide, affecting a substantial number of people.', 136.00598), ('A pandemic is an epidemic of an infectious disease that has spread across a large region, for instance multiple continents or worldwide, affecting a substantial number of people.', 136.00598), ('A pandemic is an epidemic of an infectious disease that has spread across a large region, for instance multiple continents or worldwide, affecting a substantial number of people.', 136.00598), ('The Spanish flu, also known as the 1918 flu pandemic, was an unusually deadly influenza pandemic caused by the H1N1 influenza A virus.', 88.706924), ('The Spanish flu, also known as the 1918 flu pandemic, was an unusually deadly influenza pandemic caused by the H1N1 influenza A virus.', 88.706924)]\n"
     ]
    },
    {
     "data": {
      "text/plain": [
       "(None, None)"
      ]
     },
     "execution_count": 65,
     "metadata": {},
     "output_type": "execute_result"
    }
   ],
   "source": [
    "q_num = 2\n",
    "num_similar_docs = 5\n",
    "\n",
    "print(\"Question: {}\".format(questions.question_text[q_num])), print(\"Answer: {}\".format(search(questions.question_text[q_num], num_similar_docs)))"
   ]
  }
 ],
 "metadata": {
  "kernelspec": {
   "display_name": "Python 3.7.9 ('64_bit_env': venv)",
   "language": "python",
   "name": "python3"
  },
  "language_info": {
   "codemirror_mode": {
    "name": "ipython",
    "version": 3
   },
   "file_extension": ".py",
   "mimetype": "text/x-python",
   "name": "python",
   "nbconvert_exporter": "python",
   "pygments_lexer": "ipython3",
   "version": "3.7.9"
  },
  "orig_nbformat": 4,
  "vscode": {
   "interpreter": {
    "hash": "91ca92bfb3efb2ea76f4cb03a3cae8a17e697e793a68c1f48db45dcdde3388a8"
   }
  }
 },
 "nbformat": 4,
 "nbformat_minor": 2
}
