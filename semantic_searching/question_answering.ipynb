{
 "cells": [
  {
   "cell_type": "code",
   "execution_count": 1,
   "metadata": {},
   "outputs": [
    {
     "name": "stderr",
     "output_type": "stream",
     "text": [
      "c:\\Users\\tfackrell\\AppData\\Local\\Programs\\Python\\Python310\\lib\\site-packages\\scipy\\__init__.py:146: UserWarning: A NumPy version >=1.16.5 and <1.23.0 is required for this version of SciPy (detected version 1.24.1\n",
      "  warnings.warn(f\"A NumPy version >={np_minversion} and <{np_maxversion}\"\n"
     ]
    }
   ],
   "source": [
    "import pandas as pd\n",
    "import numpy as np\n",
    "import torch\n",
    "import transformers\n",
    "from transformers import AutoTokenizer\n",
    "from transformers import DistilBertTokenizer, DistilBertModel\n",
    "from sentence_transformers import SentenceTransformer\n",
    "import faiss\n",
    "import sentence_transformers"
   ]
  },
  {
   "cell_type": "code",
   "execution_count": 2,
   "metadata": {},
   "outputs": [],
   "source": [
    "sentences = pd.read_json(\"https://lp-prod-resources.s3.amazonaws.com/493/57248/2021-05-04-13-31-46/sentences.json\").rename(columns = {0:\"sentence_text\"})\n",
    "questions = pd.read_json(\"https://lp-prod-resources.s3.amazonaws.com/493/57248/2021-08-16-19-04-45/questions.json\").rename(columns = {0:\"question_text\"})\n",
    "documents = sentences.sentence_text.to_list()\n"
   ]
  },
  {
   "cell_type": "code",
   "execution_count": 26,
   "metadata": {},
   "outputs": [],
   "source": [
    "index = faiss.read_index(\"search_index_2\")"
   ]
  },
  {
   "cell_type": "code",
   "execution_count": 27,
   "metadata": {},
   "outputs": [
    {
     "data": {
      "text/plain": [
       "<faiss.swigfaiss.IndexIDMap; proxy of <Swig Object of type 'faiss::IndexIDMapTemplate< faiss::Index > *' at 0x000001B3FE8B5050> >"
      ]
     },
     "execution_count": 27,
     "metadata": {},
     "output_type": "execute_result"
    }
   ],
   "source": [
    "index"
   ]
  },
  {
   "cell_type": "code",
   "execution_count": 28,
   "metadata": {},
   "outputs": [],
   "source": [
    "model = SentenceTransformer('distilbert-base-nli-stsb-mean-tokens')"
   ]
  },
  {
   "cell_type": "code",
   "execution_count": 29,
   "metadata": {},
   "outputs": [],
   "source": [
    "def encode(document: str):\n",
    "  vector = model.encode(document)\n",
    "  return vector"
   ]
  },
  {
   "cell_type": "code",
   "execution_count": 30,
   "metadata": {},
   "outputs": [],
   "source": [
    "def encode(document: str):\n",
    "    vector = model.encode([document])  # Pass the document as a list\n",
    "    return vector[0] "
   ]
  },
  {
   "cell_type": "code",
   "execution_count": 31,
   "metadata": {},
   "outputs": [],
   "source": [
    "def search(query: str, k=1):\n",
    "  encoded_query = np.expand_dims(encode(query), 0)\n",
    "  top_k = index.search(encoded_query, k)\n",
    "  scores = top_k[0][0]\n",
    "  results = [documents[_id] for _id in top_k[1][0]]\n",
    "  return list(zip(results, scores))"
   ]
  },
  {
   "cell_type": "code",
   "execution_count": 37,
   "metadata": {},
   "outputs": [
    {
     "name": "stdout",
     "output_type": "stream",
     "text": [
      "Question: Which diseases can be transmitted by animals?\n",
      "Answer: [('Cholera is an infection of the small intestine by some strains of the bacterium Vibrio cholerae.', 296.2388), ('Current pandemics include COVID-19 (SARS-CoV-2) and HIV/AIDS.', 320.51675), ('Common symptoms of COVID-19 include fever, cough, fatigue, breathing difficulties, and loss of smell.', 325.78787), ('A pandemic is an epidemic of an infectious disease that has spread across a large region, for instance multiple continents or worldwide, affecting a substantial number of people.', 337.85034), ('As of 2018, approximately 37.9 million people are infected with HIV globally.', 357.88797)]\n"
     ]
    },
    {
     "data": {
      "text/plain": [
       "(None, None)"
      ]
     },
     "execution_count": 37,
     "metadata": {},
     "output_type": "execute_result"
    }
   ],
   "source": [
    "q_num = 1\n",
    "num_similar_docs = 5\n",
    "\n",
    "print(\"Question: {}\".format(questions.question_text[q_num])), print(\"Answer: {}\".format(search(questions.question_text[q_num], num_similar_docs)))"
   ]
  },
  {
   "cell_type": "code",
   "execution_count": 33,
   "metadata": {},
   "outputs": [],
   "source": [
    "from transformers import pipeline\n",
    " \n",
    "qNa= pipeline('question-answering', model= 'ktrapeznikov/albert-xlarge-v2-squad-v2', tokenizer='ktrapeznikov/albert-xlarge-v2-squad-v2')\n",
    " "
   ]
  },
  {
   "cell_type": "code",
   "execution_count": 9,
   "metadata": {},
   "outputs": [],
   "source": [
    "paragraph = \"A pandemic is an epidemic of an infectious disease that has spread across a large region, for instance multiple continents or worldwide, affecting a substantial number of people.\""
   ]
  },
  {
   "cell_type": "code",
   "execution_count": 10,
   "metadata": {},
   "outputs": [
    {
     "name": "stdout",
     "output_type": "stream",
     "text": [
      "{'score': 0.3823622167110443, 'start': 13, 'end': 50, 'answer': ' an epidemic of an infectious disease'}\n"
     ]
    }
   ],
   "source": [
    "ans = qNa({'question': 'What is a pandemic?','context': f'{paragraph}'})\n",
    "print(ans)"
   ]
  },
  {
   "cell_type": "code",
   "execution_count": 41,
   "metadata": {},
   "outputs": [],
   "source": [
    "question_index = 1\n",
    "selected_question = questions.question_text[question_index]"
   ]
  },
  {
   "cell_type": "code",
   "execution_count": 42,
   "metadata": {},
   "outputs": [
    {
     "data": {
      "text/plain": [
       "'Which diseases can be transmitted by animals?'"
      ]
     },
     "execution_count": 42,
     "metadata": {},
     "output_type": "execute_result"
    }
   ],
   "source": [
    "questions.question_text[question_index]"
   ]
  },
  {
   "cell_type": "code",
   "execution_count": 43,
   "metadata": {},
   "outputs": [
    {
     "name": "stdout",
     "output_type": "stream",
     "text": [
      "Selected Question: Which diseases can be transmitted by animals?\n",
      "Answer: Cholera\n",
      "Answer:  HIV/AIDS.\n",
      "Answer:  COVID-19\n",
      "Answer:  infectious\n",
      "Answer:  HIV\n"
     ]
    }
   ],
   "source": [
    "# Perform similarity search to get similar documents for the selected question\n",
    "num_similar_docs = 5\n",
    "similar_docs = search(selected_question, num_similar_docs)\n",
    "\n",
    "# Retrieve answers for each similar document using the question-answering pipeline\n",
    "print(\"Selected Question: {}\".format(selected_question))\n",
    "for doc, _ in similar_docs:\n",
    "    answer = qNa(question=selected_question, context=doc)\n",
    "    print(\"Answer: {}\".format(answer['answer']))"
   ]
  },
  {
   "cell_type": "code",
   "execution_count": null,
   "metadata": {},
   "outputs": [],
   "source": []
  }
 ],
 "metadata": {
  "kernelspec": {
   "display_name": "Python 3.10.1 64-bit",
   "language": "python",
   "name": "python3"
  },
  "language_info": {
   "codemirror_mode": {
    "name": "ipython",
    "version": 3
   },
   "file_extension": ".py",
   "mimetype": "text/x-python",
   "name": "python",
   "nbconvert_exporter": "python",
   "pygments_lexer": "ipython3",
   "version": "3.10.1"
  },
  "orig_nbformat": 4,
  "vscode": {
   "interpreter": {
    "hash": "ce6b2e46da96f80237154c4d39870d1180913a52ccea59b3717ca4730176c7ab"
   }
  }
 },
 "nbformat": 4,
 "nbformat_minor": 2
}
