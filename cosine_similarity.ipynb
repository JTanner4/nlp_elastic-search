{
 "cells": [
  {
   "cell_type": "markdown",
   "metadata": {},
   "source": [
    "# TF-IDF Search Using Cosine Similarity"
   ]
  },
  {
   "cell_type": "code",
   "execution_count": 6,
   "metadata": {},
   "outputs": [],
   "source": [
    "import pandas as pd\n",
    "import spacy\n",
    "from collections import Counter"
   ]
  },
  {
   "cell_type": "code",
   "execution_count": 4,
   "metadata": {},
   "outputs": [
    {
     "data": {
      "text/html": [
       "<div>\n",
       "<style scoped>\n",
       "    .dataframe tbody tr th:only-of-type {\n",
       "        vertical-align: middle;\n",
       "    }\n",
       "\n",
       "    .dataframe tbody tr th {\n",
       "        vertical-align: top;\n",
       "    }\n",
       "\n",
       "    .dataframe thead th {\n",
       "        text-align: right;\n",
       "    }\n",
       "</style>\n",
       "<table border=\"1\" class=\"dataframe\">\n",
       "  <thead>\n",
       "    <tr style=\"text-align: right;\">\n",
       "      <th></th>\n",
       "      <th>title</th>\n",
       "      <th>text</th>\n",
       "      <th>url</th>\n",
       "      <th>processed_text</th>\n",
       "    </tr>\n",
       "  </thead>\n",
       "  <tbody>\n",
       "    <tr>\n",
       "      <th>0</th>\n",
       "      <td>Pandemic</td>\n",
       "      <td>A pandemic (from Greek πᾶν, pan, \"all\" and δῆμ...</td>\n",
       "      <td>https://en.wikipedia.org/wiki/Pandemic</td>\n",
       "      <td>[pandemic, greek, pan, demo, people, epidemic,...</td>\n",
       "    </tr>\n",
       "    <tr>\n",
       "      <th>1</th>\n",
       "      <td>Epidemiology of HIV/AIDS</td>\n",
       "      <td>HIV/AIDS, or Human Immunodeficiency Virus, is ...</td>\n",
       "      <td>https://en.wikipedia.org/wiki/Epidemiology_of_...</td>\n",
       "      <td>[hiv, aid, human, immunodeficiency, virus, con...</td>\n",
       "    </tr>\n",
       "    <tr>\n",
       "      <th>2</th>\n",
       "      <td>Antonine Plague</td>\n",
       "      <td>The Antonine Plague of 165 to 180 AD, also kno...</td>\n",
       "      <td>https://en.wikipedia.org/wiki/Antonine_Plague</td>\n",
       "      <td>[plague, 165, 180, ad, know, plague, galen, ga...</td>\n",
       "    </tr>\n",
       "    <tr>\n",
       "      <th>3</th>\n",
       "      <td>Basic reproduction number</td>\n",
       "      <td>In epidemiology, the basic reproduction number...</td>\n",
       "      <td>https://en.wikipedia.org/wiki/Basic_reproducti...</td>\n",
       "      <td>[epidemiology, basic, reproduction, number, ba...</td>\n",
       "    </tr>\n",
       "    <tr>\n",
       "      <th>4</th>\n",
       "      <td>Bills of mortality</td>\n",
       "      <td>Bills of mortality were the weekly mortality s...</td>\n",
       "      <td>https://en.wikipedia.org/wiki/Bills_of_mortality</td>\n",
       "      <td>[bill, mortality, weekly, mortality, statistic...</td>\n",
       "    </tr>\n",
       "  </tbody>\n",
       "</table>\n",
       "</div>"
      ],
      "text/plain": [
       "                       title  \\\n",
       "0                   Pandemic   \n",
       "1   Epidemiology of HIV/AIDS   \n",
       "2            Antonine Plague   \n",
       "3  Basic reproduction number   \n",
       "4         Bills of mortality   \n",
       "\n",
       "                                                text  \\\n",
       "0  A pandemic (from Greek πᾶν, pan, \"all\" and δῆμ...   \n",
       "1  HIV/AIDS, or Human Immunodeficiency Virus, is ...   \n",
       "2  The Antonine Plague of 165 to 180 AD, also kno...   \n",
       "3  In epidemiology, the basic reproduction number...   \n",
       "4  Bills of mortality were the weekly mortality s...   \n",
       "\n",
       "                                                 url  \\\n",
       "0             https://en.wikipedia.org/wiki/Pandemic   \n",
       "1  https://en.wikipedia.org/wiki/Epidemiology_of_...   \n",
       "2      https://en.wikipedia.org/wiki/Antonine_Plague   \n",
       "3  https://en.wikipedia.org/wiki/Basic_reproducti...   \n",
       "4   https://en.wikipedia.org/wiki/Bills_of_mortality   \n",
       "\n",
       "                                      processed_text  \n",
       "0  [pandemic, greek, pan, demo, people, epidemic,...  \n",
       "1  [hiv, aid, human, immunodeficiency, virus, con...  \n",
       "2  [plague, 165, 180, ad, know, plague, galen, ga...  \n",
       "3  [epidemiology, basic, reproduction, number, ba...  \n",
       "4  [bill, mortality, weekly, mortality, statistic...  "
      ]
     },
     "execution_count": 4,
     "metadata": {},
     "output_type": "execute_result"
    }
   ],
   "source": [
    "text_df = pd.read_json(\"processed_text.json\")\n",
    "text_df.head()"
   ]
  },
  {
   "cell_type": "code",
   "execution_count": 46,
   "metadata": {},
   "outputs": [
    {
     "data": {
      "text/plain": [
       "1408"
      ]
     },
     "execution_count": 46,
     "metadata": {},
     "output_type": "execute_result"
    }
   ],
   "source": [
    "all_text_list = list(text_df[\"processed_text\"])\n",
    "corpus = [word for sublist in all_text_list for word in sublist]\n",
    "len(Counter(corpus))\n"
   ]
  },
  {
   "cell_type": "code",
   "execution_count": 32,
   "metadata": {},
   "outputs": [],
   "source": [
    "def computeTF(wordDict):\n",
    "    tfDict = {}\n",
    "    WordsCount = len(wordDict)\n",
    "    for word, count in wordDict.items():\n",
    "        tfDict[word] = count / float(WordsCount)\n",
    "    return tfDict"
   ]
  },
  {
   "cell_type": "markdown",
   "metadata": {},
   "source": [
    "## Term Frequency\n",
    "\n",
    "**The number of times a word appears in a document divided by the total number of words in the document. Every document has its own term frequency.**"
   ]
  },
  {
   "cell_type": "code",
   "execution_count": 43,
   "metadata": {},
   "outputs": [],
   "source": [
    "def computeTF(document):\n",
    "    return(Counter(document))"
   ]
  },
  {
   "cell_type": "code",
   "execution_count": 45,
   "metadata": {},
   "outputs": [],
   "source": [
    "text_df[\"term_frequency\"] = text_df[\"processed_text\"].apply(computeTF)"
   ]
  },
  {
   "cell_type": "markdown",
   "metadata": {},
   "source": [
    "## Inverse Document Frequency\n",
    "\n",
    "The log of the number of documents divided by the number of documents that contain the word w. Inverse data frequency determines the weight of rare words across all documents in the corpus."
   ]
  },
  {
   "cell_type": "code",
   "execution_count": 53,
   "metadata": {},
   "outputs": [],
   "source": [
    "# Compute Inverse Document Frequency\n",
    "def build_tf_idf(string, vocab):\n",
    "    idfDict = dict.fromkeys(vocab, 0)\n",
    "    for document in text_df.processed_text:\n",
    "        for word in list(set(document)):\n",
    "            idfDict[word] += 1\n"
   ]
  },
  {
   "cell_type": "code",
   "execution_count": null,
   "metadata": {},
   "outputs": [],
   "source": [
    "def computeIDF(document, corpus):\n",
    "    import math\n",
    "    N = len(corpus)\n",
    "    \n",
    "    idfDict = dict.fromkeys(documents[0].keys(), 0)\n",
    "    for document in documents:\n",
    "        for word, val in document.items():\n",
    "            if val > 0:\n",
    "                idfDict[word] += 1\n",
    "    \n",
    "    for word, val in idfDict.items():\n",
    "        idfDict[word] = math.log(N / float(val))\n",
    "    return idfDict"
   ]
  }
 ],
 "metadata": {
  "kernelspec": {
   "display_name": "Python 3.8.5 64-bit",
   "language": "python",
   "name": "python3"
  },
  "language_info": {
   "codemirror_mode": {
    "name": "ipython",
    "version": 3
   },
   "file_extension": ".py",
   "mimetype": "text/x-python",
   "name": "python",
   "nbconvert_exporter": "python",
   "pygments_lexer": "ipython3",
   "version": "3.8.5"
  },
  "orig_nbformat": 4,
  "vscode": {
   "interpreter": {
    "hash": "5e2729645ad87f27040cadc0578255721d3d6766e0713f34dc64c11c38d1e2f1"
   }
  }
 },
 "nbformat": 4,
 "nbformat_minor": 2
}
