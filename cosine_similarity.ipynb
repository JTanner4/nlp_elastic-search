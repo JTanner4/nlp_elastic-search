{
 "cells": [
  {
   "cell_type": "markdown",
   "metadata": {},
   "source": [
    "# TF-IDF Search Using Cosine Similarity"
   ]
  },
  {
   "cell_type": "code",
   "execution_count": 4,
   "metadata": {},
   "outputs": [],
   "source": [
    "import pandas as pd\n",
    "import numpy as np\n",
    "import spacy\n",
    "from collections import Counter\n",
    "import math\n",
    "from sklearn.metrics.pairwise import cosine_similarity"
   ]
  },
  {
   "cell_type": "code",
   "execution_count": 5,
   "metadata": {},
   "outputs": [
    {
     "data": {
      "text/html": [
       "<div>\n",
       "<style scoped>\n",
       "    .dataframe tbody tr th:only-of-type {\n",
       "        vertical-align: middle;\n",
       "    }\n",
       "\n",
       "    .dataframe tbody tr th {\n",
       "        vertical-align: top;\n",
       "    }\n",
       "\n",
       "    .dataframe thead th {\n",
       "        text-align: right;\n",
       "    }\n",
       "</style>\n",
       "<table border=\"1\" class=\"dataframe\">\n",
       "  <thead>\n",
       "    <tr style=\"text-align: right;\">\n",
       "      <th></th>\n",
       "      <th>title</th>\n",
       "      <th>text</th>\n",
       "      <th>url</th>\n",
       "      <th>processed_text</th>\n",
       "    </tr>\n",
       "  </thead>\n",
       "  <tbody>\n",
       "    <tr>\n",
       "      <th>0</th>\n",
       "      <td>Pandemic</td>\n",
       "      <td>A pandemic (from Greek πᾶν, pan, \"all\" and δῆμ...</td>\n",
       "      <td>https://en.wikipedia.org/wiki/Pandemic</td>\n",
       "      <td>[pandemic, greek, pan, demo, people, epidemic,...</td>\n",
       "    </tr>\n",
       "    <tr>\n",
       "      <th>1</th>\n",
       "      <td>Epidemiology of HIV/AIDS</td>\n",
       "      <td>HIV/AIDS, or Human Immunodeficiency Virus, is ...</td>\n",
       "      <td>https://en.wikipedia.org/wiki/Epidemiology_of_...</td>\n",
       "      <td>[hiv, aids, human, immunodeficiency, virus, co...</td>\n",
       "    </tr>\n",
       "    <tr>\n",
       "      <th>2</th>\n",
       "      <td>Antonine Plague</td>\n",
       "      <td>The Antonine Plague of 165 to 180 AD, also kno...</td>\n",
       "      <td>https://en.wikipedia.org/wiki/Antonine_Plague</td>\n",
       "      <td>[plague, ad, know, plague, galen, galen, physi...</td>\n",
       "    </tr>\n",
       "    <tr>\n",
       "      <th>3</th>\n",
       "      <td>Basic reproduction number</td>\n",
       "      <td>In epidemiology, the basic reproduction number...</td>\n",
       "      <td>https://en.wikipedia.org/wiki/Basic_reproducti...</td>\n",
       "      <td>[epidemiology, basic, reproduction, number, ba...</td>\n",
       "    </tr>\n",
       "    <tr>\n",
       "      <th>4</th>\n",
       "      <td>Bills of mortality</td>\n",
       "      <td>Bills of mortality were the weekly mortality s...</td>\n",
       "      <td>https://en.wikipedia.org/wiki/Bills_of_mortality</td>\n",
       "      <td>[bill, mortality, weekly, mortality, statistic...</td>\n",
       "    </tr>\n",
       "  </tbody>\n",
       "</table>\n",
       "</div>"
      ],
      "text/plain": [
       "                       title  \\\n",
       "0                   Pandemic   \n",
       "1   Epidemiology of HIV/AIDS   \n",
       "2            Antonine Plague   \n",
       "3  Basic reproduction number   \n",
       "4         Bills of mortality   \n",
       "\n",
       "                                                text  \\\n",
       "0  A pandemic (from Greek πᾶν, pan, \"all\" and δῆμ...   \n",
       "1  HIV/AIDS, or Human Immunodeficiency Virus, is ...   \n",
       "2  The Antonine Plague of 165 to 180 AD, also kno...   \n",
       "3  In epidemiology, the basic reproduction number...   \n",
       "4  Bills of mortality were the weekly mortality s...   \n",
       "\n",
       "                                                 url  \\\n",
       "0             https://en.wikipedia.org/wiki/Pandemic   \n",
       "1  https://en.wikipedia.org/wiki/Epidemiology_of_...   \n",
       "2      https://en.wikipedia.org/wiki/Antonine_Plague   \n",
       "3  https://en.wikipedia.org/wiki/Basic_reproducti...   \n",
       "4   https://en.wikipedia.org/wiki/Bills_of_mortality   \n",
       "\n",
       "                                      processed_text  \n",
       "0  [pandemic, greek, pan, demo, people, epidemic,...  \n",
       "1  [hiv, aids, human, immunodeficiency, virus, co...  \n",
       "2  [plague, ad, know, plague, galen, galen, physi...  \n",
       "3  [epidemiology, basic, reproduction, number, ba...  \n",
       "4  [bill, mortality, weekly, mortality, statistic...  "
      ]
     },
     "execution_count": 5,
     "metadata": {},
     "output_type": "execute_result"
    }
   ],
   "source": [
    "text_df = pd.read_json(\"processed_text.json\")\n",
    "text_df.head()"
   ]
  },
  {
   "cell_type": "markdown",
   "metadata": {},
   "source": [
    "## Term Frequency\n",
    "\n",
    "**The number of times a word appears in a document divided by the total times it appears in the corpus. Every document has its own term frequency.**"
   ]
  },
  {
   "cell_type": "code",
   "execution_count": 6,
   "metadata": {},
   "outputs": [],
   "source": [
    "def computeTF(single_doc, docs):\n",
    "    \"\"\"Computes the Term Frequency given the tokenized text string doc and a list of tokenized documents all_docs. Returns a complete vocabulary of all_docs as a  dictionary of words with number of word appearances in doc divided by number of word appearances in all_docs\n",
    "\n",
    "    Args:\n",
    "        doc (list): A preprocessed text string tokenized into a list of words\n",
    "        all_docs (list): A list of tokenized text strings now represented as word lists\n",
    "    \"\"\"\n",
    "    doc_counts = Counter(single_doc)\n",
    "    corpus = [word for sublist in docs for word in sublist]\n",
    "    corpus_counts = Counter(corpus)\n",
    "    tf_dict = dict.fromkeys(corpus, 0)\n",
    "    for key in doc_counts.keys():\n",
    "       tf_dict[key] = doc_counts[key]/corpus_counts[key]\n",
    "      \n",
    "    return(tf_dict)"
   ]
  },
  {
   "cell_type": "markdown",
   "metadata": {},
   "source": [
    "## Inverse Document Frequency\n",
    "\n",
    "**The number of documents divided by the number of documents that contain the word w. Inverse data frequency determines the weight of rare words across all documents in the corpus.**"
   ]
  },
  {
   "cell_type": "code",
   "execution_count": 7,
   "metadata": {},
   "outputs": [],
   "source": [
    "def computeIDF(docs):    \n",
    "    \"\"\" Accepts a list of documents and returns the number of total documents divided by the number of documents containing a given word for each word\n",
    "    Args:\n",
    "        doc (list): A list of tokenized text strings now represented as word lists\n",
    "    \"\"\"\n",
    "    N = len(docs)\n",
    "    corpus = [word for sublist in docs for word in sublist]\n",
    "    idfDict = dict.fromkeys(corpus, 0)\n",
    "    for document in docs:\n",
    "        for word in list(set(document)):\n",
    "            idfDict[word] += 1\n",
    "    \n",
    "    for word, val in idfDict.items():\n",
    "        idfDict[word] = math.log(N/float(val))\n",
    "    return idfDict"
   ]
  },
  {
   "cell_type": "markdown",
   "metadata": {},
   "source": [
    "## Putting TF and IDF together"
   ]
  },
  {
   "cell_type": "code",
   "execution_count": 8,
   "metadata": {},
   "outputs": [],
   "source": [
    "# Compute Inverse Document Frequency\n",
    "def build_tf_idf(doc, docs):\n",
    "    \"\"\"Given a preprocessed string and a list of documents returns the TF-IDF vectorization\n",
    "\n",
    "    Args:\n",
    "\n",
    "        doc (list): A tokenized list of words\n",
    "        docs (list): A list of tokenized documents that make up entire vocab\n",
    "    \"\"\"\n",
    "\n",
    "    tf_idf_dictionary = dict()\n",
    "    tf_dict = computeTF(doc, docs)\n",
    "    idf_dict = computeIDF(docs)\n",
    "\n",
    "    for word, val in tf_dict.items():\n",
    "        tf_idf_dictionary[word] = (tf_dict[word]*idf_dict[word])\n",
    "    \n",
    "    return tf_idf_dictionary\n",
    "        \n"
   ]
  },
  {
   "cell_type": "code",
   "execution_count": 9,
   "metadata": {},
   "outputs": [
    {
     "data": {
      "text/html": [
       "<div>\n",
       "<style scoped>\n",
       "    .dataframe tbody tr th:only-of-type {\n",
       "        vertical-align: middle;\n",
       "    }\n",
       "\n",
       "    .dataframe tbody tr th {\n",
       "        vertical-align: top;\n",
       "    }\n",
       "\n",
       "    .dataframe thead th {\n",
       "        text-align: right;\n",
       "    }\n",
       "</style>\n",
       "<table border=\"1\" class=\"dataframe\">\n",
       "  <thead>\n",
       "    <tr style=\"text-align: right;\">\n",
       "      <th></th>\n",
       "      <th>title</th>\n",
       "      <th>text</th>\n",
       "      <th>url</th>\n",
       "      <th>processed_text</th>\n",
       "      <th>tfidf_vector</th>\n",
       "    </tr>\n",
       "  </thead>\n",
       "  <tbody>\n",
       "    <tr>\n",
       "      <th>0</th>\n",
       "      <td>Pandemic</td>\n",
       "      <td>A pandemic (from Greek πᾶν, pan, \"all\" and δῆμ...</td>\n",
       "      <td>https://en.wikipedia.org/wiki/Pandemic</td>\n",
       "      <td>[pandemic, greek, pan, demo, people, epidemic,...</td>\n",
       "      <td>{'pandemic': 0.05040987047045528, 'greek': 3.2...</td>\n",
       "    </tr>\n",
       "    <tr>\n",
       "      <th>1</th>\n",
       "      <td>Epidemiology of HIV/AIDS</td>\n",
       "      <td>HIV/AIDS, or Human Immunodeficiency Virus, is ...</td>\n",
       "      <td>https://en.wikipedia.org/wiki/Epidemiology_of_...</td>\n",
       "      <td>[hiv, aids, human, immunodeficiency, virus, co...</td>\n",
       "      <td>{'pandemic': 0.014402820134415793, 'greek': 0....</td>\n",
       "    </tr>\n",
       "    <tr>\n",
       "      <th>2</th>\n",
       "      <td>Antonine Plague</td>\n",
       "      <td>The Antonine Plague of 165 to 180 AD, also kno...</td>\n",
       "      <td>https://en.wikipedia.org/wiki/Antonine_Plague</td>\n",
       "      <td>[plague, ad, know, plague, galen, galen, physi...</td>\n",
       "      <td>{'pandemic': 0.014402820134415793, 'greek': 0....</td>\n",
       "    </tr>\n",
       "    <tr>\n",
       "      <th>3</th>\n",
       "      <td>Basic reproduction number</td>\n",
       "      <td>In epidemiology, the basic reproduction number...</td>\n",
       "      <td>https://en.wikipedia.org/wiki/Basic_reproducti...</td>\n",
       "      <td>[epidemiology, basic, reproduction, number, ba...</td>\n",
       "      <td>{'pandemic': 0.0, 'greek': 0.0, 'pan': 0.0, 'd...</td>\n",
       "    </tr>\n",
       "    <tr>\n",
       "      <th>4</th>\n",
       "      <td>Bills of mortality</td>\n",
       "      <td>Bills of mortality were the weekly mortality s...</td>\n",
       "      <td>https://en.wikipedia.org/wiki/Bills_of_mortality</td>\n",
       "      <td>[bill, mortality, weekly, mortality, statistic...</td>\n",
       "      <td>{'pandemic': 0.0, 'greek': 0.0, 'pan': 0.0, 'd...</td>\n",
       "    </tr>\n",
       "  </tbody>\n",
       "</table>\n",
       "</div>"
      ],
      "text/plain": [
       "                       title  \\\n",
       "0                   Pandemic   \n",
       "1   Epidemiology of HIV/AIDS   \n",
       "2            Antonine Plague   \n",
       "3  Basic reproduction number   \n",
       "4         Bills of mortality   \n",
       "\n",
       "                                                text  \\\n",
       "0  A pandemic (from Greek πᾶν, pan, \"all\" and δῆμ...   \n",
       "1  HIV/AIDS, or Human Immunodeficiency Virus, is ...   \n",
       "2  The Antonine Plague of 165 to 180 AD, also kno...   \n",
       "3  In epidemiology, the basic reproduction number...   \n",
       "4  Bills of mortality were the weekly mortality s...   \n",
       "\n",
       "                                                 url  \\\n",
       "0             https://en.wikipedia.org/wiki/Pandemic   \n",
       "1  https://en.wikipedia.org/wiki/Epidemiology_of_...   \n",
       "2      https://en.wikipedia.org/wiki/Antonine_Plague   \n",
       "3  https://en.wikipedia.org/wiki/Basic_reproducti...   \n",
       "4   https://en.wikipedia.org/wiki/Bills_of_mortality   \n",
       "\n",
       "                                      processed_text  \\\n",
       "0  [pandemic, greek, pan, demo, people, epidemic,...   \n",
       "1  [hiv, aids, human, immunodeficiency, virus, co...   \n",
       "2  [plague, ad, know, plague, galen, galen, physi...   \n",
       "3  [epidemiology, basic, reproduction, number, ba...   \n",
       "4  [bill, mortality, weekly, mortality, statistic...   \n",
       "\n",
       "                                        tfidf_vector  \n",
       "0  {'pandemic': 0.05040987047045528, 'greek': 3.2...  \n",
       "1  {'pandemic': 0.014402820134415793, 'greek': 0....  \n",
       "2  {'pandemic': 0.014402820134415793, 'greek': 0....  \n",
       "3  {'pandemic': 0.0, 'greek': 0.0, 'pan': 0.0, 'd...  \n",
       "4  {'pandemic': 0.0, 'greek': 0.0, 'pan': 0.0, 'd...  "
      ]
     },
     "execution_count": 9,
     "metadata": {},
     "output_type": "execute_result"
    }
   ],
   "source": [
    "text_df[\"tfidf_vector\"] = text_df.processed_text.apply(build_tf_idf, docs=text_df.processed_text)\n",
    "text_df.head()\n"
   ]
  },
  {
   "cell_type": "code",
   "execution_count": 10,
   "metadata": {},
   "outputs": [],
   "source": [
    "text_tf_idf = text_df.to_json()\n",
    "\n",
    "with open('processed_text_tf_idf.json', 'w') as outfile:\n",
    "    outfile.write(text_tf_idf)"
   ]
  },
  {
   "cell_type": "markdown",
   "metadata": {},
   "source": [
    "## Create a Search Function using cosine similarity"
   ]
  },
  {
   "cell_type": "code",
   "execution_count": 1,
   "metadata": {},
   "outputs": [],
   "source": [
    "def make_tokens(text):\n",
    "    \"\"\" Accepts any list of words and returns a tokenized list\n",
    "\n",
    "    Args:\n",
    "        text (string):\n",
    "\n",
    "    Returns:\n",
    "        list: Tokenizeed list of lemmatized words\n",
    "    \"\"\"\n",
    "    nlp = spacy.load(\"en_core_web_lg\") # Initialize the vocabulary\n",
    "    doc = nlp(text.lower())\n",
    "    filtered_sentence =[] \n",
    "    for word in doc:\n",
    "        lexeme = nlp.vocab[str(word)]\n",
    "        if lexeme.is_stop == False and lexeme.is_punct == False and lexeme.is_oov == False:\n",
    "            filtered_sentence.append(word.lemma_) \n",
    "    return filtered_sentence"
   ]
  },
  {
   "cell_type": "code",
   "execution_count": 2,
   "metadata": {},
   "outputs": [],
   "source": [
    "def get_cosine_similarities(string, titles, documents):\n",
    "    \"\"\"Accepts a string, list of title, documents, and a tfidf vector returns a dictionary of title with cosine similarity score ordered by most similar to least similar\n",
    "\n",
    "    Args:\n",
    "        string (string): Any string of words\n",
    "        titles (list): A list of document titles associated with the  vectorized documents given in the tfidf_vector argument\n",
    "        documents (list): A list of preprocessed document token vectors to build vocabularity for tf-idf computation\n",
    "    \"\"\"\n",
    "    tokenized_string = make_tokens(string)\n",
    "    input_tfidf = np.array([list(build_tf_idf(tokenized_string, documents).values())])\n",
    "    document_tf_idf = pd.Series([np.array([list(dictionary.values())]) for dictionary in text_df.processed_text.apply(build_tf_idf, docs = text_df.processed_text)])\n",
    "    similarity_scores = document_tf_idf.apply(cosine_similarity, Y=input_tfidf)\n",
    "    similarity_scores = pd.Series([value.item(0) for value in similarity_scores])\n",
    "    scores_df = pd.concat([titles, similarity_scores.rename(\"similarity_score\")], axis=1)\n",
    "    sorted_scores = scores_df.sort_values(by = \"similarity_score\", ascending=False)\n",
    "    sorted_scores_dict = sorted_scores.set_index(\"title\")['similarity_score'].to_dict()\n",
    "    return sorted_scores_dict"
   ]
  },
  {
   "cell_type": "code",
   "execution_count": 3,
   "metadata": {},
   "outputs": [
    {
     "ename": "NameError",
     "evalue": "name 'text_df' is not defined",
     "output_type": "error",
     "traceback": [
      "\u001b[1;31m---------------------------------------------------------------------------\u001b[0m",
      "\u001b[1;31mNameError\u001b[0m                                 Traceback (most recent call last)",
      "\u001b[1;32mC:\\Users\\TFACKR~1\\AppData\\Local\\Temp/ipykernel_20412/2685165893.py\u001b[0m in \u001b[0;36m<module>\u001b[1;34m\u001b[0m\n\u001b[1;32m----> 1\u001b[1;33m \u001b[0mget_cosine_similarities\u001b[0m\u001b[1;33m(\u001b[0m\u001b[1;34m\"Current Covid-19 Pandemic\"\u001b[0m\u001b[1;33m,\u001b[0m \u001b[0mtext_df\u001b[0m\u001b[1;33m.\u001b[0m\u001b[0mtitle\u001b[0m\u001b[1;33m,\u001b[0m \u001b[0mtext_df\u001b[0m\u001b[1;33m.\u001b[0m\u001b[0mprocessed_text\u001b[0m\u001b[1;33m)\u001b[0m\u001b[1;33m\u001b[0m\u001b[1;33m\u001b[0m\u001b[0m\n\u001b[0m",
      "\u001b[1;31mNameError\u001b[0m: name 'text_df' is not defined"
     ]
    }
   ],
   "source": [
    "get_cosine_similarities(\"Current Covid-19 Pandemic\", text_df.title, text_df.processed_text)"
   ]
  },
  {
   "cell_type": "code",
   "execution_count": null,
   "metadata": {},
   "outputs": [],
   "source": []
  }
 ],
 "metadata": {
  "kernelspec": {
   "display_name": "Python 3.10.1 64-bit",
   "language": "python",
   "name": "python3"
  },
  "language_info": {
   "codemirror_mode": {
    "name": "ipython",
    "version": 3
   },
   "file_extension": ".py",
   "mimetype": "text/x-python",
   "name": "python",
   "nbconvert_exporter": "python",
   "pygments_lexer": "ipython3",
   "version": "3.10.1"
  },
  "orig_nbformat": 4,
  "vscode": {
   "interpreter": {
    "hash": "ce6b2e46da96f80237154c4d39870d1180913a52ccea59b3717ca4730176c7ab"
   }
  }
 },
 "nbformat": 4,
 "nbformat_minor": 2
}
